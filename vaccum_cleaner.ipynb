{
 "cells": [
  {
   "cell_type": "code",
   "execution_count": 1,
   "id": "d3612b93",
   "metadata": {},
   "outputs": [
    {
     "name": "stdout",
     "output_type": "stream",
     "text": [
      "Cleaned rooms: {(0, -3), (0, -2), (0, -4), (0, -5), (0, -1)}\n"
     ]
    }
   ],
   "source": [
    "class VacuumCleanerAgent:\n",
    "    def __init__(self, room_size):\n",
    "        self.room_size = room_size\n",
    "        self.current_position = (0, 0)  # Start at the top-left corner\n",
    "        self.cleaned_rooms = set()\n",
    "\n",
    "    def move(self, direction):\n",
    "        \"\"\"\n",
    "        Move the vacuum cleaner in the specified direction.\n",
    "        :param direction: 'up', 'down', 'left', or 'right'\n",
    "        \"\"\"\n",
    "        if direction == 'up':\n",
    "            self.current_position = (self.current_position[0], self.current_position[1] - 1)\n",
    "        elif direction == 'down':\n",
    "            self.current_position = (self.current_position[0], self.current_position[1] + 1)\n",
    "        elif direction == 'left':\n",
    "            self.current_position = (self.current_position[0] - 1, self.current_position[1])\n",
    "        elif direction == 'right':\n",
    "            self.current_position = (self.current_position[0] + 1, self.current_position[1])\n",
    "\n",
    "    def clean_room(self):\n",
    "        \"\"\"\n",
    "        Clean the current room.\n",
    "        \"\"\"\n",
    "        self.cleaned_rooms.add(self.current_position)\n",
    "\n",
    "    def run(self):\n",
    "        \"\"\"\n",
    "        Run the vacuum cleaner agent.\n",
    "        \"\"\"\n",
    "        for _ in range(self.room_size):\n",
    "            # Move randomly (you can implement more sophisticated logic here)\n",
    "            self.move('up')\n",
    "            self.clean_room()\n",
    "\n",
    "if __name__ == \"__main__\":\n",
    "    room_size = 5  # Change this to the desired room size (e.g., 5x5)\n",
    "    agent = VacuumCleanerAgent(room_size)\n",
    "    agent.run()\n",
    "    print(f\"Cleaned rooms: {agent.cleaned_rooms}\")\n"
   ]
  },
  {
   "cell_type": "code",
   "execution_count": null,
   "id": "fa9e2443",
   "metadata": {},
   "outputs": [],
   "source": []
  }
 ],
 "metadata": {
  "kernelspec": {
   "display_name": "Python 3 (ipykernel)",
   "language": "python",
   "name": "python3"
  },
  "language_info": {
   "codemirror_mode": {
    "name": "ipython",
    "version": 3
   },
   "file_extension": ".py",
   "mimetype": "text/x-python",
   "name": "python",
   "nbconvert_exporter": "python",
   "pygments_lexer": "ipython3",
   "version": "3.11.5"
  }
 },
 "nbformat": 4,
 "nbformat_minor": 5
}
